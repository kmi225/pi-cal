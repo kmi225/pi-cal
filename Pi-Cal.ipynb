{
 "cells": [
  {
   "cell_type": "markdown",
   "metadata": {},
   "source": [
    "# Pi = Circumference/Diameter"
   ]
  },
  {
   "cell_type": "markdown",
   "metadata": {},
   "source": [
    "The jupyter notebook displays the front end to the user using a web browser, however behind the scenes it calls Spark for the heavy calculations(in this case). Similarly other libraries can also be imported to the python Scripts that you choose to run on your notebook. Provided that you have done what is required to run your code in a regular .py python file, you should have no issues in executing that same code here, in your jupyter notebook.\n",
    "\n",
    "The following code block shows how to calculate the value of Pi to 6 decimal places, using Pyspark, which is a Spark API. \n",
    "Increasing the value of num_samples improves the accuracy of the code, but at the same time increases the time needed to calculate the value of pi."
   ]
  },
  {
   "cell_type": "code",
   "execution_count": 1,
   "metadata": {},
   "outputs": [
    {
     "name": "stdout",
     "output_type": "stream",
     "text": [
      "3.141861\n"
     ]
    }
   ],
   "source": [
    "import pyspark\n",
    "import random\n",
    "num_samples = 43000000\n",
    "\n",
    "def inside(p):     \n",
    "  x, y = random.random(), random.random()\n",
    "  return x*x + y*y < 1\n",
    "count = sc.parallelize(range(0, num_samples)).filter(inside).count()\n",
    "\n",
    "pi = 4 * float(count) / num_samples\n",
    "print '{0:.6f}'.format(pi)\n",
    "\n",
    "sc.stop()"
   ]
  },
  {
   "cell_type": "markdown",
   "metadata": {},
   "source": [
    "Variable States are saved between cell blocks. The next cell will also be able to print the value of pi, as long as you have set it's value by executing the cell above."
   ]
  },
  {
   "cell_type": "code",
   "execution_count": 4,
   "metadata": {},
   "outputs": [
    {
     "data": {
      "text/html": [
       "<img src=\"http://www.spinfold.com/wp-content/uploads/2014/04/pi.jpg\" />"
      ],
      "text/plain": [
       "<IPython.core.display.HTML object>"
      ]
     },
     "metadata": {},
     "output_type": "display_data"
    }
   ],
   "source": [
    "%%html\n",
    "<img src=\"http://www.spinfold.com/wp-content/uploads/2014/04/pi.jpg\" />"
   ]
  },
  {
   "cell_type": "markdown",
   "metadata": {},
   "source": [
    "print(pi)"
   ]
  }
 ],
 "metadata": {
  "kernelspec": {
   "display_name": "Python 2",
   "language": "python",
   "name": "python2"
  },
  "language_info": {
   "codemirror_mode": {
    "name": "ipython",
    "version": 2
   },
   "file_extension": ".py",
   "mimetype": "text/x-python",
   "name": "python",
   "nbconvert_exporter": "python",
   "pygments_lexer": "ipython2",
   "version": "2.7.15"
  }
 },
 "nbformat": 4,
 "nbformat_minor": 2
}
